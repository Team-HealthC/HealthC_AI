{
 "cells": [
  {
   "cell_type": "markdown",
   "id": "1e92ddf4-f32a-48bc-8c6e-20eec97cc491",
   "metadata": {
    "tags": []
   },
   "source": [
    "## 필요한 라이브러리"
   ]
  },
  {
   "cell_type": "code",
   "execution_count": 2,
   "id": "a6566fa6-bfd4-45cb-92af-87bad579a70f",
   "metadata": {},
   "outputs": [],
   "source": [
    "import os\n",
    "import io\n",
    "import re\n",
    "import numpy as np\n",
    "import pandas as pd\n",
    "import platform\n",
    "from PIL import ImageFont, ImageDraw, Image\n",
    "import matplotlib.pyplot as plt\n",
    "\n",
    "import cv2\n",
    "from google.cloud import vision"
   ]
  },
  {
   "cell_type": "markdown",
   "id": "78266b37-c5cf-43b2-a5f8-4372364b9cf1",
   "metadata": {},
   "source": [
    "## Google OCR API 불러오기"
   ]
  },
  {
   "cell_type": "code",
   "execution_count": 3,
   "id": "5030f0a6-ea07-4aca-94f7-71aebb73eb00",
   "metadata": {},
   "outputs": [],
   "source": [
    "# OCR API 불러오기\n",
    "# \\ => /로 변환해야 파일 인식 가능(안바꾸면 유니코드 에러 발생함)\n",
    "os.environ['GOOGLE_APPLICATION_CREDENTIALS'] = 'API 키 저장 위치'\n",
    " \n",
    "client_options = {'api_endpoint': 'eu-vision.googleapis.com'}\n",
    "client = vision.ImageAnnotatorClient(client_options=client_options)"
   ]
  },
  {
   "cell_type": "markdown",
   "id": "aee15242-ac00-44b0-b836-64e43ec4003b",
   "metadata": {
    "tags": []
   },
   "source": [
    "## 이미지 이진화\n",
    "OCR인식률을 높이기 위함"
   ]
  },
  {
   "cell_type": "markdown",
   "id": "9fd948fc-47e6-4944-b838-d8c59d05d814",
   "metadata": {},
   "source": [
    "cv_이미지명 형식으로 저장됨"
   ]
  },
  {
   "cell_type": "code",
   "execution_count": 4,
   "id": "267b01aa-1ddf-4657-91f1-92910df3623b",
   "metadata": {},
   "outputs": [],
   "source": [
    "img_path = 'test2.jpg'"
   ]
  },
  {
   "cell_type": "code",
   "execution_count": 7,
   "id": "133264e9-d9c9-45af-8b8a-89f42c9685c3",
   "metadata": {},
   "outputs": [
    {
     "data": {
      "text/plain": [
       "True"
      ]
     },
     "execution_count": 7,
     "metadata": {},
     "output_type": "execute_result"
    }
   ],
   "source": [
    "img = cv2.imread(img_path)\n",
    "img = cv2.resize(img, (0, 0), fx=0.2, fy=0.2)\n",
    "# print(img.shape)\n",
    "img_gray = cv2.cvtColor(img, cv2.COLOR_BGR2GRAY)\n",
    "\n",
    "# 최적의 gaussian 값을 찾아서 이진화 수행(block, cell 값 조정 필요함)\n",
    "dst = cv2.adaptiveThreshold(img_gray, 255, cv2.ADAPTIVE_THRESH_GAUSSIAN_C, cv2.THRESH_BINARY, 7, 9)\n",
    "\n",
    "# 이진화한 이미지 저장(cv_이미지명 형식으로 저장됨)\n",
    "cv2.imwrite('cv_' + img_path, dst)"
   ]
  },
  {
   "cell_type": "markdown",
   "id": "bac0e56b-62f6-4436-a1d1-cad4f1997392",
   "metadata": {
    "jp-MarkdownHeadingCollapsed": true,
    "tags": []
   },
   "source": [
    "### 이미지 윤곽선 찾기\n",
    "추가할 것) 윤곽선 찾은 것에서만 OCR 수행하기\\n\\n\n",
    "위의 코드 이어서 수행하는 코드임!"
   ]
  },
  {
   "cell_type": "code",
   "execution_count": null,
   "id": "ec01d64e-43c9-429c-93f3-314360a7cf98",
   "metadata": {},
   "outputs": [],
   "source": [
    "# 이미지에서 윤곽선 찾기\n",
    "contours, _ = cv2.findContours(dst, cv2.RETR_EXTERNAL, cv2.CHAIN_APPROX_NONE)\n",
    "# print(len(contours))\n",
    "for pts in contours:\n",
    "    if cv2.contourArea(pts) < 1000:\n",
    "        continue\n",
    "    \n",
    "    approx = cv2.approxPolyDP(pts, cv2.arcLength(pts, True)*0.02, True)\n",
    "    \n",
    "    if len(approx) != 4:\n",
    "        continue\n",
    "    \n",
    "    cv2.polylines(img, pts, True, (0, 0, 255))\n",
    "    \n",
    "cv2.imshow('src', img)\n",
    "cv2.imshow('dst', dst)\n",
    "cv2.waitKey()\n",
    "cv2.destroyAllWindows()"
   ]
  },
  {
   "cell_type": "code",
   "execution_count": null,
   "id": "7ae5da3f-76d6-4847-bd11-0a469b56d574",
   "metadata": {},
   "outputs": [],
   "source": []
  },
  {
   "cell_type": "markdown",
   "id": "8e2532f8-cdd5-4571-a90f-146021201a04",
   "metadata": {},
   "source": [
    "### 이진화 전후 성능 비교"
   ]
  },
  {
   "cell_type": "markdown",
   "id": "fc1096b0-a3ff-408c-8e71-abe9ab63c9ce",
   "metadata": {},
   "source": [
    "ex) 산도조절제를 인식하지 못했던 이전과 달리 이진화 후 인식이 가능해짐"
   ]
  },
  {
   "cell_type": "markdown",
   "id": "210c9c83-228c-4f54-afc7-687503650197",
   "metadata": {},
   "source": [
    "이진화 전이 후보다 OCR 인식 시간이 오래걸림"
   ]
  },
  {
   "cell_type": "code",
   "execution_count": 21,
   "id": "c73bd653-ecb4-4a1f-befa-25a1f99b3c28",
   "metadata": {},
   "outputs": [],
   "source": [
    "img_origin = 'test2.jpg'\n",
    "img_binary = 'cv_test2.jpg'"
   ]
  },
  {
   "cell_type": "code",
   "execution_count": 26,
   "id": "be4a2fe9-3a25-405d-823f-8396b0dc894f",
   "metadata": {},
   "outputs": [],
   "source": [
    "with io.open(img_origin, 'rb') as img_file:\n",
    "    content = img_file.read()\n",
    "    image = vision.Image(content=content)\n",
    " \n",
    "    response = client.text_detection(image=image)\n",
    "    texts = response.text_annotations\n",
    "\n",
    "text = re.sub('\\n', '', texts[0].description)\n",
    "\n",
    "gredients_lst1 = []\n",
    "special_char = '[^A-Za-z0-9가-힣]'\n",
    "for first_split in text.split(','):\n",
    "    material = [re.sub(special_char, ' ', f) for f in first_split.split()]\n",
    "    for second_split in material:\n",
    "        for third_split in second_split.split():\n",
    "            gredients_lst1.append(third_split)"
   ]
  },
  {
   "cell_type": "code",
   "execution_count": 25,
   "id": "b46d232c-65ed-4a6b-a8fe-3d9a82f52143",
   "metadata": {},
   "outputs": [],
   "source": [
    "with io.open(img_binary, 'rb') as img_file:\n",
    "    content = img_file.read()\n",
    "    image = vision.Image(content=content)\n",
    " \n",
    "    response = client.text_detection(image=image)\n",
    "    texts = response.text_annotations\n",
    "\n",
    "text = re.sub('\\n', '', texts[0].description)\n",
    "\n",
    "gredients_lst2 = []\n",
    "special_char = '[^A-Za-z0-9가-힣]'\n",
    "for first_split in text.split(','):\n",
    "    material = [re.sub(special_char, ' ', f) for f in first_split.split()]\n",
    "    for second_split in material:\n",
    "        for third_split in second_split.split():\n",
    "            gredients_lst2.append(third_split)"
   ]
  },
  {
   "cell_type": "code",
   "execution_count": 30,
   "id": "9eebf61c-ce05-44b9-92da-3d21df6b150d",
   "metadata": {},
   "outputs": [
    {
     "name": "stdout",
     "output_type": "stream",
     "text": [
      "['00OPEN빼빼로', '판매수익금롯데제과', 'Sweet', 'Home지역아동센터건립기금으로', '사용됩니다', '유통기한', '밑면표기일까지', '연', '월', '일', '식품유형', '초콜릿가공품', '내포장재질', '폴리프로필렌품목보고번호', 'F2', '양산', '19780614009498', 'F4', '대전', '19960242067376영업장의', '명칭', '롯데제과', '서울시', '영등포구', '양평로21길', '25및', '소재지원재료명', '준초콜릿', '설탕', '가공유지', '싱가포르산', '혼합분유', '외국산', '싱가포르', '프랑스', '네덜란드', '등', '전지분유', '코코아매스', '코코아매스', '유당', '밀가루', '밀', '미국산', '캐나다산', '준초콜릿II', '설탕', '혼합분유', '외국산', '싱가포르', '프랑스', '네덜란드', '등', '전지분유', '코코아매스', '가공유지', '싱가포르산', '코코아매스', '유당', '시드', '곡류가공품', '설탕', '쇼트닝', '가공연유', '가공버터', '전분가공품', '맥아엑기스', '전지분골드', '1', '정제소금', '산료', '효소제', '효모도조절제3종', '기타과당', '혼합제제', '합성향료', '밀가루', '비타민C', '카제인나트륨', '알긴산프로필렌글리콜', '혼합제제II', '바닐라추출물', '합성향밀', '대두', '우유', '땅콩', '함유', '직사광선', '및', '습기를', '피해', '서늘한', '곳에', '진열', '유통', '중', '변질품은', '구입상점', '및', '본사에서', '항상', '교환', '소비자기본법에', '의한', '피해', '보상', '휴지줍는', '고운마음', '안버리는', '밝은마음', '부정', '불량식품', '신고는', '국번없이', '1399', '달걀', '쇠고기', '돼지고기', '혼입', '가능', '고객지원센터080', '024', '6060수신자요금부담http', 'www', 'lottecont', 'co', 'kr중', '초콜릿', '표면이', '녹아', '하얀', '반점이', '생길', '수', '있으나', '인체에무해하니', '드셔도', '괜찮습니다', '영양정보지방', '11g', '20', '나트륨', '140', 'mg7', '탄수화물', '24g7', '당류', '13g', '13', '트랜스지방', '0g포화지방', '6g', '40', '콜레스테롤', '5mg미만', '1', '1일', '영양성분', '기준치에', '대한', '비율', '은', '2', '000kcal', '기준이므로', '개인의', '필요', '열량에', '따라', '다를', '수', '있습니다', '1', '롯데제과단백질', '3g5', '눌러서분리배출', '해주세요총', '내용량', '39', 'g205', 'kcalSweet', 'Eco롯데제과와', '함께', '환경을', '지켜요', '편리한', '분리배출'] \n",
      "['HE롯데지막ue국회는', '전국민대방의식품유형', '초콜릿가공품', '내포장재질', '플리프로필랜유통기한', '밑면표기일까지', '연', '월', '일', 'JF2', '양산', '19780614009498', '품목보고번호', 'F4', '대전', '19960242067376영업장의', '명칭', '롯데제과', '주', '서울시', '영등포구', '양평로21길', '25및', '소재지원재료명', '준초콜릿', '설탕', '가공유지', '싱가포르산', '혼합분유', '외국산', '싱가포르', '프랑스', '네덜란드', '등', '전지분유', '코코아매스', '코코아매스', '유당', '밀가루', '밀', '미국산', '캐나다산', '준초콜릿', '설탕', '혼합분유', '외국산', '싱가포르', '프랑스', '네덜란드', '등', '전지분유', '코코아매스', '가공유지', '싱가포르산', '코코아매스', '유당', '시드', '곡류가공품', '설탕', '쇼트닝', '가공연유', '가공버터', '전분가공품', '맥아엑기스', '전지분골드', '정제소금', '산도조절제3종', '기타과당', '혼합제제', '합성향료', '밀가루', '비타민C', '카체인나트륨', '알긴산프로필렌글리콜', '혼합제제', '바닐라추출물', '합성향', '료', '효소제', '효모', '밀', '대두', '우유', '땅콩', '함유', '직사광선', '및', '습기를', '피해', '서늘한', '곳에', '진열', '유통', '중', '변질품은', '구입상점', '및', '본사에서', '항상', '교환', '소비자기본법에', '의한', '피해', '보상', '휴지줍는', '고운마음', '안버리는', '밝은마음', '부정', '불량식품', '신고는', '국번없이', '1399', '달걀', '쇠고기', '돼지고기', '혼입', '가능', '유통', '중', '초콜릿', '표면이', '녹아', '하얀', '반점이', '생길', '수', '있으나', '인체에', '무해하니', '드셔도', '괜찮습니다', '영양정보나트륨', '140mg7', '탄수화물', '24g7', '당류', '13g', '13', '지방', '11g', '20', '트랜스지방', '0g', '포화지방', '6g40', '콜레스테롤', '5mg미만', '1', '단백질', '3g5', '1일', '영양성분', '기준치에', '대한', '비율', '은', '2', '000kcal', '기준이므로', '개인의', '필요', '열량에', '따라', '다꿀', '수', '있습니다', '2', '했다지요', 'Sweet', 'ECD6회', '고객지원센터080', '024', '6060수신자요금부담', '분리배출', '해주세요총', '내용량', '39', 'g205', 'kcal편리한', '분리배출주요A'] "
     ]
    }
   ],
   "source": [
    "print(gredients_lst1, end=' ')\n",
    "print()\n",
    "print(gredients_lst2, end=' ')"
   ]
  },
  {
   "cell_type": "markdown",
   "id": "d1fffc7b-f664-45f2-bdae-f768287261e4",
   "metadata": {},
   "source": [
    "## 이미지 불러오기"
   ]
  },
  {
   "cell_type": "code",
   "execution_count": 8,
   "id": "b6728330-39f8-4248-9fd7-3facb0009794",
   "metadata": {},
   "outputs": [],
   "source": [
    "path = 'cv_test2.jpg'\n",
    "# path = '../img2.jpg'"
   ]
  },
  {
   "cell_type": "code",
   "execution_count": 9,
   "id": "3665dfd8-105b-4304-8f63-4551ec9301dc",
   "metadata": {},
   "outputs": [],
   "source": [
    "# 이미지 불러오기\n",
    "with io.open(path, 'rb') as img_file:\n",
    "    content = img_file.read()"
   ]
  },
  {
   "cell_type": "markdown",
   "id": "7be34fd1-9b35-422d-ae20-058b99cd33a1",
   "metadata": {},
   "source": [
    "## OCR 인식"
   ]
  },
  {
   "cell_type": "markdown",
   "id": "567e54c8-5e4c-4b6b-98a6-db72e22fb4e4",
   "metadata": {},
   "source": [
    "OCR 수행 후 한글 문단 나누기로 인한 \\n처리가 필요함"
   ]
  },
  {
   "cell_type": "code",
   "execution_count": 10,
   "id": "f6abfbeb-c9da-44bd-9a40-a67f0d2d9e89",
   "metadata": {},
   "outputs": [],
   "source": [
    "image = vision.Image(content=content)\n",
    " \n",
    "response = client.text_detection(image=image)\n",
    "texts = response.text_annotations"
   ]
  },
  {
   "cell_type": "code",
   "execution_count": 13,
   "id": "65e9974b-6255-4ac2-86b8-6ac12ac0ff98",
   "metadata": {},
   "outputs": [
    {
     "data": {
      "text/plain": [
       "'HE\\n롯데지막ue\\n국회는 전국민대방의\\n식품유형 초콜릿가공품 내포장재질 플리프로필랜\\n유통기한 밑면표기일까지(연.월.일)\\nJF2(양산) 19780614009498,\\n품목보고번호 F4(대전) 19960242067376\\n영업장의 명칭 롯데제과(주) 서울시 영등포구 양평로21길 25\\n및 소재지\\n원재료명 준초콜릿 (설탕,가공유지(싱가포르산),혼합분유(외국산\\n(싱가포르·프랑스-네덜란드 등); 전지분유, 코코아매스,코코아매\\n스,유당), 밀가루(밀:미국산 캐나다산), 준초콜릿 (설탕, 혼합분유(외\\n국산(싱가포르·프랑스·네덜란드 등 전지분유,코코아매스), 가공유\\n지(싱가포르산) 코코아매스,유당), 시드(곡류가공품),설탕,쇼트닝,가\\n공연유, 가공버터, 전분가공품, 맥아엑기스 전지분골드),정제소금, 산\\n도조절제3종, 기타과당,혼합제제(합성향료, 밀가루, 비타민C,카체\\n인나트륨, 알긴산프로필렌글리콜),혼합제제(바닐라추출물,합성향\\n(료), 효소제,효모\\n· 밀,대두,우유, 땅콩 함유\\n-직사광선 및 습기를 피해 서늘한 곳에 진열, 유통 중 변질품은 구\\n입상점 및 본사에서 항상 교환 ·소비자기본법에 의한 피해 보상\\n• 휴지줍는 고운마음, 안버리는 밝은마음\\n•부정, 불량식품 신고는 국번없이 1399\\n•달걀,쇠고기 돼지고기 혼입 가능\\n·유통 중 초콜릿 표면이 녹아 하얀 반점이 생길 수 있으나, 인체에\\n\\'무해하니 드셔도 괜찮습니다.\\n영양정보\\n나트륨 140mg7% 탄수화물 24g7% [당류 13g 13%\\n지방 11g 20%\\n트랜스지방 0g 포화지방 6g40%\\n콜레스테롤 5mg미만 1%\\n단백질 3g5%\\n1일 영양성분 기준치에 대한 비율(%)은 2,000kcal 기준이므로 개인의 필요 열량에 따라 다꿀 수 있습니다..\\n(2) 했다지요!\\nSweet ECD\\n6회 고객지원센터\\n080-024-6060\\n수신자요금부담\\n\"분리배출 해주세요\\n총 내용량 39 g\\n205 kcal\\n편리한 분리배출\\n주요\\nA'"
      ]
     },
     "execution_count": 13,
     "metadata": {},
     "output_type": "execute_result"
    }
   ],
   "source": [
    "texts[0].description"
   ]
  },
  {
   "cell_type": "code",
   "execution_count": 27,
   "id": "61c49a59-5c2c-4c7e-9eb9-fc4cb85b6f3e",
   "metadata": {},
   "outputs": [],
   "source": [
    "# print(texts[0].description)"
   ]
  },
  {
   "cell_type": "markdown",
   "id": "6d1c230f-ee97-4851-8e4e-7430628a8a0a",
   "metadata": {
    "jp-MarkdownHeadingCollapsed": true,
    "tags": []
   },
   "source": [
    "### 오류 처리 코드"
   ]
  },
  {
   "cell_type": "code",
   "execution_count": 21,
   "id": "19a45638-d5d5-4e17-8202-958fb99d5ca3",
   "metadata": {},
   "outputs": [],
   "source": [
    "if response.error.message:\n",
    "        raise Exception(\n",
    "            '{}\\nFor more info on error messages, check: '\n",
    "            'https://cloud.google.com/apis/design/errors'.format(\n",
    "                response.error.message))"
   ]
  },
  {
   "cell_type": "markdown",
   "id": "0ff79c73-58a4-4187-a8a5-62372ce9b4a1",
   "metadata": {},
   "source": [
    "# 제일 best인 전처리"
   ]
  },
  {
   "cell_type": "markdown",
   "id": "4e8f1848-b33c-4aa2-9e9c-545b4a664e80",
   "metadata": {},
   "source": [
    "## Text 전처리"
   ]
  },
  {
   "cell_type": "code",
   "execution_count": 11,
   "id": "fd0fda4d-e901-4461-a4a1-00540c88395f",
   "metadata": {},
   "outputs": [],
   "source": [
    "# text = texts[0].description.replace(\"\\n\", \"\")"
   ]
  },
  {
   "cell_type": "code",
   "execution_count": 12,
   "id": "f9a8a002-72c7-4f0d-96f5-632ffefa1f66",
   "metadata": {},
   "outputs": [
    {
     "data": {
      "text/plain": [
       "'HE롯데지막ue국회는 전국민대방의식품유형 초콜릿가공품 내포장재질 플리프로필랜유통기한 밑면표기일까지(연.월.일)JF2(양산) 19780614009498,품목보고번호 F4(대전) 19960242067376영업장의 명칭 롯데제과(주) 서울시 영등포구 양평로21길 25및 소재지원재료명 준초콜릿 (설탕,가공유지(싱가포르산),혼합분유(외국산(싱가포르·프랑스-네덜란드 등); 전지분유, 코코아매스,코코아매스,유당), 밀가루(밀:미국산 캐나다산), 준초콜릿 (설탕, 혼합분유(외국산(싱가포르·프랑스·네덜란드 등 전지분유,코코아매스), 가공유지(싱가포르산) 코코아매스,유당), 시드(곡류가공품),설탕,쇼트닝,가공연유, 가공버터, 전분가공품, 맥아엑기스 전지분골드),정제소금, 산도조절제3종, 기타과당,혼합제제(합성향료, 밀가루, 비타민C,카체인나트륨, 알긴산프로필렌글리콜),혼합제제(바닐라추출물,합성향(료), 효소제,효모· 밀,대두,우유, 땅콩 함유-직사광선 및 습기를 피해 서늘한 곳에 진열, 유통 중 변질품은 구입상점 및 본사에서 항상 교환 ·소비자기본법에 의한 피해 보상• 휴지줍는 고운마음, 안버리는 밝은마음•부정, 불량식품 신고는 국번없이 1399•달걀,쇠고기 돼지고기 혼입 가능·유통 중 초콜릿 표면이 녹아 하얀 반점이 생길 수 있으나, 인체에\\'무해하니 드셔도 괜찮습니다.영양정보나트륨 140mg7% 탄수화물 24g7% [당류 13g 13%지방 11g 20%트랜스지방 0g 포화지방 6g40%콜레스테롤 5mg미만 1%단백질 3g5%1일 영양성분 기준치에 대한 비율(%)은 2,000kcal 기준이므로 개인의 필요 열량에 따라 다꿀 수 있습니다..(2) 했다지요!Sweet ECD6회 고객지원센터080-024-6060수신자요금부담\"분리배출 해주세요총 내용량 39 g205 kcal편리한 분리배출주요A'"
      ]
     },
     "execution_count": 12,
     "metadata": {},
     "output_type": "execute_result"
    }
   ],
   "source": [
    "# text"
   ]
  },
  {
   "cell_type": "code",
   "execution_count": 14,
   "id": "6a851f21-c11e-4ec6-9891-5c63d8ec9710",
   "metadata": {},
   "outputs": [],
   "source": [
    "# 대안2(제일 best)\n",
    "text = re.sub('\\n', '', texts[0].description)"
   ]
  },
  {
   "cell_type": "code",
   "execution_count": 15,
   "id": "358931f4-53f6-4cf4-b38a-62518523c6a6",
   "metadata": {},
   "outputs": [],
   "source": [
    "gredients_lst = []\n",
    "special_char = '[^A-Za-z0-9가-힣]'\n",
    "for first_split in text.split(','):\n",
    "    material = [re.sub(special_char, ' ', f) for f in first_split.split()]\n",
    "    for second_split in material:\n",
    "        for third_split in second_split.split():\n",
    "            gredients_lst.append(third_split)"
   ]
  },
  {
   "cell_type": "code",
   "execution_count": 16,
   "id": "ad027393-1c4c-4e4d-b1d1-d85c8b38f70b",
   "metadata": {},
   "outputs": [
    {
     "name": "stdout",
     "output_type": "stream",
     "text": [
      "['HE롯데지막ue국회는', '전국민대방의식품유형', '초콜릿가공품', '내포장재질', '플리프로필랜유통기한', '밑면표기일까지', '연', '월', '일', 'JF2', '양산', '19780614009498', '품목보고번호', 'F4', '대전', '19960242067376영업장의', '명칭', '롯데제과', '주', '서울시', '영등포구', '양평로21길', '25및', '소재지원재료명', '준초콜릿', '설탕', '가공유지', '싱가포르산', '혼합분유', '외국산', '싱가포르', '프랑스', '네덜란드', '등', '전지분유', '코코아매스', '코코아매스', '유당', '밀가루', '밀', '미국산', '캐나다산', '준초콜릿', '설탕', '혼합분유', '외국산', '싱가포르', '프랑스', '네덜란드', '등', '전지분유', '코코아매스', '가공유지', '싱가포르산', '코코아매스', '유당', '시드', '곡류가공품', '설탕', '쇼트닝', '가공연유', '가공버터', '전분가공품', '맥아엑기스', '전지분골드', '정제소금', '산도조절제3종', '기타과당', '혼합제제', '합성향료', '밀가루', '비타민C', '카체인나트륨', '알긴산프로필렌글리콜', '혼합제제', '바닐라추출물', '합성향', '료', '효소제', '효모', '밀', '대두', '우유', '땅콩', '함유', '직사광선', '및', '습기를', '피해', '서늘한', '곳에', '진열', '유통', '중', '변질품은', '구입상점', '및', '본사에서', '항상', '교환', '소비자기본법에', '의한', '피해', '보상', '휴지줍는', '고운마음', '안버리는', '밝은마음', '부정', '불량식품', '신고는', '국번없이', '1399', '달걀', '쇠고기', '돼지고기', '혼입', '가능', '유통', '중', '초콜릿', '표면이', '녹아', '하얀', '반점이', '생길', '수', '있으나', '인체에', '무해하니', '드셔도', '괜찮습니다', '영양정보나트륨', '140mg7', '탄수화물', '24g7', '당류', '13g', '13', '지방', '11g', '20', '트랜스지방', '0g', '포화지방', '6g40', '콜레스테롤', '5mg미만', '1', '단백질', '3g5', '1일', '영양성분', '기준치에', '대한', '비율', '은', '2', '000kcal', '기준이므로', '개인의', '필요', '열량에', '따라', '다꿀', '수', '있습니다', '2', '했다지요', 'Sweet', 'ECD6회', '고객지원센터080', '024', '6060수신자요금부담', '분리배출', '해주세요총', '내용량', '39', 'g205', 'kcal편리한', '분리배출주요A'] "
     ]
    }
   ],
   "source": [
    "print(gredients_lst, end=' ')"
   ]
  },
  {
   "cell_type": "code",
   "execution_count": 30,
   "id": "d140c3c0-634c-4da5-b32e-40809a616184",
   "metadata": {},
   "outputs": [],
   "source": [
    "# text = re.sub(special_char, '/', text)"
   ]
  },
  {
   "cell_type": "code",
   "execution_count": 31,
   "id": "682589b6-0bda-43d5-9bcd-374dfe87fb49",
   "metadata": {},
   "outputs": [],
   "source": [
    "# text"
   ]
  },
  {
   "cell_type": "code",
   "execution_count": 28,
   "id": "e210af45-8487-4035-9603-5d39a095a3d1",
   "metadata": {},
   "outputs": [],
   "source": [
    "# lst = []\n",
    "# special_char = ''\n",
    "# for split in text.split():\n",
    "#     x = [re.sub('[^A-Za-z0-9가-힣]', ' ', t) for t in split.split(',')]\n",
    "#     # print(x)\n",
    "#     for j in x:\n",
    "#         lst += j.split()"
   ]
  },
  {
   "cell_type": "code",
   "execution_count": 35,
   "id": "2c487421-7287-496a-802a-fbbe28a3ba1c",
   "metadata": {},
   "outputs": [],
   "source": [
    "# lst"
   ]
  },
  {
   "cell_type": "code",
   "execution_count": 36,
   "id": "7adb59be-c038-4e91-aa33-2d65f761c8e8",
   "metadata": {},
   "outputs": [],
   "source": [
    "# print(gredients_lst, end=' ')"
   ]
  },
  {
   "cell_type": "markdown",
   "id": "fbb37ad5-6521-45e4-abd9-c150e8de1167",
   "metadata": {},
   "source": [
    "## 원재료명 list 엑셀 파일 읽어오기\n",
    "=> excel 파일로 제공되는 파일 가져옴\n",
    "==> json을 읽어오는 방법도 있음"
   ]
  },
  {
   "cell_type": "code",
   "execution_count": 17,
   "id": "a04468e3-8b9a-4193-aa09-be52ef497188",
   "metadata": {},
   "outputs": [],
   "source": [
    "materials = pd.read_excel('../materials_all.xlsx')"
   ]
  },
  {
   "cell_type": "code",
   "execution_count": 18,
   "id": "01b56b2f-d21d-4176-8e1c-dc2dcd963afa",
   "metadata": {},
   "outputs": [
    {
     "data": {
      "text/html": [
       "<div>\n",
       "<style scoped>\n",
       "    .dataframe tbody tr th:only-of-type {\n",
       "        vertical-align: middle;\n",
       "    }\n",
       "\n",
       "    .dataframe tbody tr th {\n",
       "        vertical-align: top;\n",
       "    }\n",
       "\n",
       "    .dataframe thead th {\n",
       "        text-align: right;\n",
       "    }\n",
       "</style>\n",
       "<table border=\"1\" class=\"dataframe\">\n",
       "  <thead>\n",
       "    <tr style=\"text-align: right;\">\n",
       "      <th></th>\n",
       "      <th>Unnamed: 0</th>\n",
       "      <th>원재료</th>\n",
       "      <th>대표원재료명</th>\n",
       "      <th>원재료이명</th>\n",
       "    </tr>\n",
       "  </thead>\n",
       "  <tbody>\n",
       "    <tr>\n",
       "      <th>0</th>\n",
       "      <td>0</td>\n",
       "      <td>Abiu열매</td>\n",
       "      <td>Abiu열매</td>\n",
       "      <td>NaN</td>\n",
       "    </tr>\n",
       "    <tr>\n",
       "      <th>1</th>\n",
       "      <td>1</td>\n",
       "      <td>Agathi꽃</td>\n",
       "      <td>Agathi꽃</td>\n",
       "      <td>NaN</td>\n",
       "    </tr>\n",
       "    <tr>\n",
       "      <th>2</th>\n",
       "      <td>2</td>\n",
       "      <td>Agathi잎</td>\n",
       "      <td>Agathi잎</td>\n",
       "      <td>NaN</td>\n",
       "    </tr>\n",
       "    <tr>\n",
       "      <th>3</th>\n",
       "      <td>3</td>\n",
       "      <td>Alder Buckthorn</td>\n",
       "      <td>Alder Buckthorn</td>\n",
       "      <td>NaN</td>\n",
       "    </tr>\n",
       "    <tr>\n",
       "      <th>4</th>\n",
       "      <td>4</td>\n",
       "      <td>Algarrobo Blanco</td>\n",
       "      <td>Algarrobo Blanco</td>\n",
       "      <td>NaN</td>\n",
       "    </tr>\n",
       "  </tbody>\n",
       "</table>\n",
       "</div>"
      ],
      "text/plain": [
       "   Unnamed: 0                원재료            대표원재료명 원재료이명\n",
       "0           0            Abiu열매             Abiu열매   NaN\n",
       "1           1           Agathi꽃            Agathi꽃   NaN\n",
       "2           2           Agathi잎            Agathi잎   NaN\n",
       "3           3   Alder Buckthorn    Alder Buckthorn   NaN\n",
       "4           4  Algarrobo Blanco   Algarrobo Blanco   NaN"
      ]
     },
     "execution_count": 18,
     "metadata": {},
     "output_type": "execute_result"
    }
   ],
   "source": [
    "materials.head()"
   ]
  },
  {
   "cell_type": "code",
   "execution_count": 19,
   "id": "6e8a22f3-4c7e-4d11-9944-18c6b745913c",
   "metadata": {},
   "outputs": [],
   "source": [
    "food_materials = pd.DataFrame({'원재료' : list(set(gredients_lst))})\n",
    "result = pd.merge(materials, food_materials\n",
    "                   , how=\"inner\", right_on=\"원재료\", left_on=\"대표원재료명\")"
   ]
  },
  {
   "cell_type": "code",
   "execution_count": 20,
   "id": "c09e2855-baa8-4f88-8a69-6a40f8c92569",
   "metadata": {},
   "outputs": [
    {
     "name": "stdout",
     "output_type": "stream",
     "text": [
      "26 ['대두', '땅콩', '밀', '밀가루', '연', '코코아매스', '맥아엑기스', '돼지고기', '우유', '전지분유', '은', '유당', '알긴산프로필렌글리콜', '효모', '단백질', '설탕', '쇼트닝', '가공유지', '초콜릿', '가공버터', '전지분골드', '준초콜릿', '곡류가공품', '초콜릿가공품', '효소제', '혼합제제']\n"
     ]
    }
   ],
   "source": [
    "print(len(list(result[\"대표원재료명\"])), list(result[\"대표원재료명\"]))"
   ]
  },
  {
   "cell_type": "markdown",
   "id": "687d43c0-7f46-4976-81b0-5755aa9f39e2",
   "metadata": {
    "jp-MarkdownHeadingCollapsed": true,
    "tags": []
   },
   "source": [
    "### 문제 해결 필요 부분\n",
    "<br> 은 => 문제 해결하기 </br>\n",
    "<br> 합성향 료 => 문제 해결하기 </br>"
   ]
  },
  {
   "cell_type": "markdown",
   "id": "d7c56ad3-206b-4f3e-90fc-078363b1825a",
   "metadata": {
    "jp-MarkdownHeadingCollapsed": true,
    "tags": []
   },
   "source": [
    "### 여러가지 Try(좋지않은 결과)"
   ]
  },
  {
   "cell_type": "code",
   "execution_count": 141,
   "id": "96820e66-e37c-4092-8949-4233662bed06",
   "metadata": {},
   "outputs": [],
   "source": [
    "lst = []\n",
    "special_char = ''\n",
    "for split in text.split():\n",
    "    x = [re.sub('[^A-Za-z0-9가-힣]', ' ', t) for t in split.split(',')]\n",
    "    # print(x)\n",
    "    for j in x:\n",
    "        lst += j.split()"
   ]
  },
  {
   "cell_type": "code",
   "execution_count": 142,
   "id": "ae36a6be-c94a-4812-91c7-413a99f42fa6",
   "metadata": {},
   "outputs": [
    {
     "name": "stdout",
     "output_type": "stream",
     "text": [
      "['00OPEN빼빼로', '판매수익금롯데제과', 'Sweet', 'Home지역아동센터건립기금으로', '사용됩니다', '유통기한', '밑면표기일까지', '연', '월', '일', '식품유형', '초콜릿가공품', '내포장재질', '폴리프로필렌품목보고번호', 'F2', '양산', '19780614009498', 'F4', '대전', '19960242067376영업장의', '명칭', '롯데제과', '서울시', '영등포구', '양평로21길', '25및', '소재지원재료명', '준초콜릿', '설탕', '가공유지', '싱가포르산', '혼합분유', '외국산', '싱가포르', '프랑스', '네덜란드', '등', '전지분유', '코코아매스', '코코아매스', '유당', '밀가루', '밀', '미국산', '캐나다산', '준초콜릿II', '설탕', '혼합분유', '외국산', '싱가포르', '프랑스', '네덜란드', '등', '전지분유', '코코아매스', '가공유지', '싱가포르산', '코코아매스', '유당', '시드', '곡류가공품', '설탕', '쇼트닝', '가공연유', '가공버터', '전분가공품', '맥아엑기스', '전지분골드', '1', '정제소금', '산료', '효소제', '효모도조절제3종', '기타과당', '혼합제제', '합성향료', '밀가루', '비타민C', '카제인나트륨', '알긴산프로필렌글리콜', '혼합제제II', '바닐라추출물', '합성향밀', '대두', '우유', '땅콩', '함유', '직사광선', '및', '습기를', '피해', '서늘한', '곳에', '진열', '유통', '중', '변질품은', '구입상점', '및', '본사에서', '항상', '교환', '소비자기본법에', '의한', '피해', '보상', '휴지줍는', '고운마음', '안버리는', '밝은마음', '부정', '불량식품', '신고는', '국번없이', '1399', '달걀', '쇠고기', '돼지고기', '혼입', '가능', '고객지원센터080', '024', '6060수신자요금부담http', 'www', 'lottecont', 'co', 'kr중', '초콜릿', '표면이', '녹아', '하얀', '반점이', '생길', '수', '있으나', '인체에무해하니', '드셔도', '괜찮습니다', '영양정보지방', '11g', '20', '나트륨', '140', 'mg7', '탄수화물', '24g7', '당류', '13g', '13', '트랜스지방', '0g포화지방', '6g', '40', '콜레스테롤', '5mg미만', '1', '1일', '영양성분', '기준치에', '대한', '비율', '은', '2', '000kcal', '기준이므로', '개인의', '필요', '열량에', '따라', '다를', '수', '있습니다', '1', '롯데제과단백질', '3g5', '눌러서분리배출', '해주세요총', '내용량', '39', 'g205', 'kcalSweet', 'Eco롯데제과와', '함께', '환경을', '지켜요', '편리한', '분리배출'] "
     ]
    }
   ],
   "source": [
    "print(lst, end=' ')"
   ]
  },
  {
   "cell_type": "code",
   "execution_count": 85,
   "id": "62161911-96d7-41d4-be44-1528e3f7b545",
   "metadata": {},
   "outputs": [
    {
     "data": {
      "text/plain": [
       "'00OPEN빼빼로 판매수익금롯데제과 Sweet Home지역아동센터건립기금으로 사용됩니다.유통기한 밑면표기일까지(연.월.일)식품유형 초콜릿가공품|내포장재질 폴리프로필렌품목보고번호 F2(양산) 19780614009498,F4(대전)19960242067376영업장의 명칭 롯데제과㈜ 서울시 영등포구 양평로21길 25및 소재지원재료명 준초콜릿 | (설탕, 가공유지(싱가포르산),혼합분유(외국산·(싱가포르·프랑스·네덜란드 등);전지분유,코코아매스),코코아매스,유당), 밀가루(밀:미국산,캐나다산),준초콜릿II(설탕,혼합분유(외국산(싱가포르 • 프랑스·네덜란드 등);전지분유,코코아매스),가공유지(싱가포르산),코코아매스,유당),시드(곡류가공품),설탕,쇼트닝,가공연유,가공버터,전분가공품,맥아엑기스,전지분골드 1,정제소금,산료), 효소제,효모도조절제3종, 기타과당,혼합제제(합성향료,밀가루,비타민C, 카제인나트륨,알긴산프로필렌글리콜),혼합제제II(바닐라추출물,합성향밀,대두,우유,땅콩 함유•직사광선 및 습기를 피해 서늘한 곳에 진열, 유통 중 변질품은 구입상점 및 본사에서 항상 교환 • 소비자기본법에 의한 피해 보상• 휴지줍는 고운마음, 안버리는 밝은마음• 부정, 불량식품 신고는 국번없이 1399•달걀,쇠고기,돼지고기 혼입 가능•●• 고객지원센터080-024-6060수신자요금부담http://www.lottecont.co.kr중 초콜릿 표면이 녹아 하얀 반점이 생길 수 있으나, 인체에무해하니 드셔도 괜찮습니다.영양정보지방 11g 20%나트륨 140 mg7% | 탄수화물 24g7% | 당류 13g 13%트랜스지방 0g포화지방 6g 40%콜레스테롤 5mg미만 1 %*1일 영양성분 기준치에 대한 비율(%)은 2,000kcal 기준이므로 개인의 필요 열량에 따라 다를 수 있습니다.1 롯데제과단백질 3g5%눌러서분리배출 해주세요총 내용량 39 g205 kcalSweet Eco롯데제과와 함께 환경을 지켜요△ 편리한 분리배출'"
      ]
     },
     "execution_count": 85,
     "metadata": {},
     "output_type": "execute_result"
    }
   ],
   "source": [
    "text"
   ]
  },
  {
   "cell_type": "code",
   "execution_count": 99,
   "id": "d8cc57a3-ca88-43c9-88b0-169f5dd15a46",
   "metadata": {},
   "outputs": [],
   "source": [
    "lst = [i for i in '준초콜릿, 설탕, 가공유지, 혼합분유, 전지분유, 코코아매스, 유당, 밀가루, 밀, 준초콜릿II, 시드, 곡류가공품, 쇼트닝, 가공연유, 가공버터, 전분가공품, 맥아엑기스, 전지분골드I, 정제소금, 산도조절제3종, 기타과당, 혼합제제I, 합성향료, 비타민C,  카제인나트륨, 알긴산프로필렌글리콜, 혼합제제II, 바닐라추출물, 효소제, 효모, 대두, 우유, 땅콩, 달걀, 쇠고기, 돼지고기'.split(', ')]"
   ]
  },
  {
   "cell_type": "code",
   "execution_count": 100,
   "id": "9615d042-cdc3-427e-b034-b2f6431ca173",
   "metadata": {},
   "outputs": [
    {
     "data": {
      "text/plain": [
       "36"
      ]
     },
     "execution_count": 100,
     "metadata": {},
     "output_type": "execute_result"
    }
   ],
   "source": [
    "len(set(lst))"
   ]
  },
  {
   "cell_type": "markdown",
   "id": "738e25fe-178a-43ac-9fad-d3aa529f664b",
   "metadata": {
    "jp-MarkdownHeadingCollapsed": true,
    "tags": []
   },
   "source": [
    "### 형태소 분석 수행 Try"
   ]
  },
  {
   "cell_type": "markdown",
   "id": "b9ee7f47-a0fc-4a58-acce-3b3cf75ca3a6",
   "metadata": {},
   "source": [
    "한글에 대한 성능이 그닥 좋지 않음"
   ]
  },
  {
   "cell_type": "code",
   "execution_count": null,
   "id": "18fe792b-55f0-4eae-9b5b-f7ae64d38e97",
   "metadata": {},
   "outputs": [],
   "source": [
    "!pip install konlpy\n",
    "import konlpy\n",
    "\n",
    "x_data = []\n",
    "\n",
    "for i, document in enumerate(texts[0].description):\n",
    "    okt = konlpy.tag.Okt()\n",
    "    clean_words = []\n",
    "    for word in okt.pos(document, stem=True): #어간 추출\n",
    "        if word[1] not in ['Josa', 'Eomi', 'Punctuation']: #조사, 어미, 구두점 제외 \n",
    "            clean_words.append(word[0])\n",
    "    print(clean_words) #['스토리', '진짜', '너무', '노잼']\n",
    "    document = ' '.join(clean_words)\n",
    "    print(document) #스토리 진짜 너무 노잼\n",
    "    x_data[i] = document"
   ]
  }
 ],
 "metadata": {
  "kernelspec": {
   "display_name": "Python 3 (ipykernel)",
   "language": "python",
   "name": "python3"
  },
  "language_info": {
   "codemirror_mode": {
    "name": "ipython",
    "version": 3
   },
   "file_extension": ".py",
   "mimetype": "text/x-python",
   "name": "python",
   "nbconvert_exporter": "python",
   "pygments_lexer": "ipython3",
   "version": "3.9.7"
  }
 },
 "nbformat": 4,
 "nbformat_minor": 5
}
