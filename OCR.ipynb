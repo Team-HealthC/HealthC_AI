{
 "cells": [
  {
   "cell_type": "markdown",
   "id": "1e92ddf4-f32a-48bc-8c6e-20eec97cc491",
   "metadata": {
    "tags": []
   },
   "source": [
    "## 필요한 라이브러리"
   ]
  },
  {
   "cell_type": "code",
   "execution_count": 1,
   "id": "a6566fa6-bfd4-45cb-92af-87bad579a70f",
   "metadata": {},
   "outputs": [],
   "source": [
    "import os\n",
    "import io\n",
    "import re\n",
    "import numpy as np\n",
    "import pandas as pd\n",
    "import platform\n",
    "from PIL import ImageFont, ImageDraw, Image\n",
    "import matplotlib.pyplot as plt\n",
    "\n",
    "import cv2\n",
    "from google.cloud import vision"
   ]
  },
  {
   "cell_type": "markdown",
   "id": "78266b37-c5cf-43b2-a5f8-4372364b9cf1",
   "metadata": {},
   "source": [
    "## Google OCR API 불러오기"
   ]
  },
  {
   "cell_type": "code",
   "execution_count": 3,
   "id": "5030f0a6-ea07-4aca-94f7-71aebb73eb00",
   "metadata": {},
   "outputs": [],
   "source": [
    "# OCR API 불러오기\n",
    "# \\ => /로 변환해야 파일 인식 가능(안바꾸면 유니코드 에러 발생함)\n",
    "os.environ['GOOGLE_APPLICATION_CREDENTIALS'] = 'C:/Users\\Hong Ji Young\\Desktop/Health-C/health-c-377913-17227fcd7bd5.json'\n",
    " \n",
    "client_options = {'api_endpoint': 'eu-vision.googleapis.com'}\n",
    "client = vision.ImageAnnotatorClient(client_options=client_options)"
   ]
  },
  {
   "cell_type": "markdown",
   "id": "d1fffc7b-f664-45f2-bdae-f768287261e4",
   "metadata": {},
   "source": [
    "## 이미지 불러오기"
   ]
  },
  {
   "cell_type": "code",
   "execution_count": 4,
   "id": "3665dfd8-105b-4304-8f63-4551ec9301dc",
   "metadata": {},
   "outputs": [],
   "source": [
    "# 이미지 불러오기\n",
    "path = '../img2.jpg'\n",
    "with io.open(path, 'rb') as img_file:\n",
    "    content = img_file.read()"
   ]
  },
  {
   "cell_type": "markdown",
   "id": "7be34fd1-9b35-422d-ae20-058b99cd33a1",
   "metadata": {},
   "source": [
    "## OCR 인식"
   ]
  },
  {
   "cell_type": "code",
   "execution_count": 5,
   "id": "f6abfbeb-c9da-44bd-9a40-a67f0d2d9e89",
   "metadata": {},
   "outputs": [],
   "source": [
    "image = vision.Image(content=content)\n",
    " \n",
    "response = client.text_detection(image=image)\n",
    "texts = response.text_annotations"
   ]
  },
  {
   "cell_type": "code",
   "execution_count": 24,
   "id": "dcbbd7f0-7dd2-418f-9d8a-df39bff82e56",
   "metadata": {},
   "outputs": [],
   "source": [
    "# texts"
   ]
  },
  {
   "cell_type": "code",
   "execution_count": 111,
   "id": "fd0fda4d-e901-4461-a4a1-00540c88395f",
   "metadata": {},
   "outputs": [],
   "source": [
    "text = texts[0].description.replace(\"\\n\", \"\")"
   ]
  },
  {
   "cell_type": "code",
   "execution_count": 21,
   "id": "19a45638-d5d5-4e17-8202-958fb99d5ca3",
   "metadata": {},
   "outputs": [],
   "source": [
    "if response.error.message:\n",
    "        raise Exception(\n",
    "            '{}\\nFor more info on error messages, check: '\n",
    "            'https://cloud.google.com/apis/design/errors'.format(\n",
    "                response.error.message))"
   ]
  },
  {
   "cell_type": "markdown",
   "id": "4e8f1848-b33c-4aa2-9e9c-545b4a664e80",
   "metadata": {},
   "source": [
    "## Text 전처리"
   ]
  },
  {
   "cell_type": "code",
   "execution_count": 154,
   "id": "d140c3c0-634c-4da5-b32e-40809a616184",
   "metadata": {},
   "outputs": [],
   "source": [
    "text = re.sub(special_char, '/', text)"
   ]
  },
  {
   "cell_type": "code",
   "execution_count": 159,
   "id": "682589b6-0bda-43d5-9bcd-374dfe87fb49",
   "metadata": {},
   "outputs": [
    {
     "data": {
      "text/plain": [
       "'//OPEN빼빼로/판매수익금롯데제과/Sweet/Home지역아동센터건립기금으로/사용됩니다/유통기한/밑면표기일까지/연/월/일/식품유형/초콜릿가공품/내포장재질/폴리프로필렌품목보고번호/F//양산/////////////////F//대전///////////////영업장의/명칭/롯데제과//서울시/영등포구/양평로//길///및/소재지원재료명/준초콜릿////설탕//가공유지/싱가포르산//혼합분유/외국산//싱가포르/프랑스/네덜란드/등//전지분유/코코아매스//코코아매스/유당///밀가루/밀/미국산/캐나다산//준초콜릿II/설탕/혼합분유/외국산/싱가포르///프랑스/네덜란드/등//전지분유/코코아매스//가공유지/싱가포르산//코코아매스/유당//시드/곡류가공품//설탕/쇼트닝/가공연유/가공버터/전분가공품/맥아엑기스/전지분골드///정제소금/산료///효소제/효모도조절제/종//기타과당/혼합제제/합성향료/밀가루/비타민C//카제인나트륨/알긴산프로필렌글리콜//혼합제제II/바닐라추출물/합성향밀/대두/우유/땅콩/함유/직사광선/및/습기를/피해/서늘한/곳에/진열//유통/중/변질품은/구입상점/및/본사에서/항상/교환///소비자기본법에/의한/피해/보상//휴지줍는/고운마음//안버리는/밝은마음//부정//불량식품/신고는/국번없이//////달걀/쇠고기/돼지고기/혼입/가능////고객지원센터////////////수신자요금부담http///www/lottecont/co/kr중/초콜릿/표면이/녹아/하얀/반점이/생길/수/있으나//인체에무해하니/드셔도/괜찮습니다/영양정보지방///g////나트륨/////mg/////탄수화물///g/////당류///g////트랜스지방//g포화지방//g////콜레스테롤//mg미만//////일/영양성분/기준치에/대한/비율///은//////kcal/기준이므로/개인의/필요/열량에/따라/다를/수/있습니다///롯데제과단백질//g//눌러서분리배출/해주세요총/내용량////g////kcalSweet/Eco롯데제과와/함께/환경을/지켜요//편리한/분리배출'"
      ]
     },
     "execution_count": 162,
     "metadata": {},
     "output_type": "execute_result"
    }
   ],
   "source": [
    "text"
   ]
  },
  {
   "cell_type": "code",
   "execution_count": 163,
   "id": "358931f4-53f6-4cf4-b38a-62518523c6a6",
   "metadata": {},
   "outputs": [],
   "source": [
    "gredients_lst = []\n",
    "special_char = '[^A-Za-z0-9가-힣]'\n",
    "for first_split in text.split(','):\n",
    "    material = [re.sub(special_char, ' ', f) for f in first_split.split()]\n",
    "    for second_split in material:\n",
    "        for third_split in second_split.split():\n",
    "            gredients_lst.append(third_split)"
   ]
  },
  {
   "cell_type": "code",
   "execution_count": 164,
   "id": "7adb59be-c038-4e91-aa33-2d65f761c8e8",
   "metadata": {},
   "outputs": [
    {
     "name": "stdout",
     "output_type": "stream",
     "text": [
      "['OPEN빼빼로', '판매수익금롯데제과', 'Sweet', 'Home지역아동센터건립기금으로', '사용됩니다', '유통기한', '밑면표기일까지', '연', '월', '일', '식품유형', '초콜릿가공품', '내포장재질', '폴리프로필렌품목보고번호', 'F', '양산', 'F', '대전', '영업장의', '명칭', '롯데제과', '서울시', '영등포구', '양평로', '길', '및', '소재지원재료명', '준초콜릿', '설탕', '가공유지', '싱가포르산', '혼합분유', '외국산', '싱가포르', '프랑스', '네덜란드', '등', '전지분유', '코코아매스', '코코아매스', '유당', '밀가루', '밀', '미국산', '캐나다산', '준초콜릿II', '설탕', '혼합분유', '외국산', '싱가포르', '프랑스', '네덜란드', '등', '전지분유', '코코아매스', '가공유지', '싱가포르산', '코코아매스', '유당', '시드', '곡류가공품', '설탕', '쇼트닝', '가공연유', '가공버터', '전분가공품', '맥아엑기스', '전지분골드', '정제소금', '산료', '효소제', '효모도조절제', '종', '기타과당', '혼합제제', '합성향료', '밀가루', '비타민C', '카제인나트륨', '알긴산프로필렌글리콜', '혼합제제II', '바닐라추출물', '합성향밀', '대두', '우유', '땅콩', '함유', '직사광선', '및', '습기를', '피해', '서늘한', '곳에', '진열', '유통', '중', '변질품은', '구입상점', '및', '본사에서', '항상', '교환', '소비자기본법에', '의한', '피해', '보상', '휴지줍는', '고운마음', '안버리는', '밝은마음', '부정', '불량식품', '신고는', '국번없이', '달걀', '쇠고기', '돼지고기', '혼입', '가능', '고객지원센터', '수신자요금부담http', 'www', 'lottecont', 'co', 'kr중', '초콜릿', '표면이', '녹아', '하얀', '반점이', '생길', '수', '있으나', '인체에무해하니', '드셔도', '괜찮습니다', '영양정보지방', 'g', '나트륨', 'mg', '탄수화물', 'g', '당류', 'g', '트랜스지방', 'g포화지방', 'g', '콜레스테롤', 'mg미만', '일', '영양성분', '기준치에', '대한', '비율', '은', 'kcal', '기준이므로', '개인의', '필요', '열량에', '따라', '다를', '수', '있습니다', '롯데제과단백질', 'g', '눌러서분리배출', '해주세요총', '내용량', 'g', 'kcalSweet', 'Eco롯데제과와', '함께', '환경을', '지켜요', '편리한', '분리배출'] "
     ]
    }
   ],
   "source": [
    "print(gredients_lst, end=' ')"
   ]
  },
  {
   "cell_type": "markdown",
   "id": "fbb37ad5-6521-45e4-abd9-c150e8de1167",
   "metadata": {},
   "source": [
    "## 원재료명 list 엑셀 파일 읽어오기\n",
    "=> excel 파일로 제공되는 파일 가져옴\n",
    "==> json을 읽어오는 방법도 있음"
   ]
  },
  {
   "cell_type": "code",
   "execution_count": 73,
   "id": "a04468e3-8b9a-4193-aa09-be52ef497188",
   "metadata": {},
   "outputs": [],
   "source": [
    "materials = pd.read_excel('../materials_all.xlsx')"
   ]
  },
  {
   "cell_type": "code",
   "execution_count": 74,
   "id": "01b56b2f-d21d-4176-8e1c-dc2dcd963afa",
   "metadata": {},
   "outputs": [
    {
     "data": {
      "text/html": [
       "<div>\n",
       "<style scoped>\n",
       "    .dataframe tbody tr th:only-of-type {\n",
       "        vertical-align: middle;\n",
       "    }\n",
       "\n",
       "    .dataframe tbody tr th {\n",
       "        vertical-align: top;\n",
       "    }\n",
       "\n",
       "    .dataframe thead th {\n",
       "        text-align: right;\n",
       "    }\n",
       "</style>\n",
       "<table border=\"1\" class=\"dataframe\">\n",
       "  <thead>\n",
       "    <tr style=\"text-align: right;\">\n",
       "      <th></th>\n",
       "      <th>Unnamed: 0</th>\n",
       "      <th>원재료</th>\n",
       "      <th>대표원재료명</th>\n",
       "      <th>원재료이명</th>\n",
       "    </tr>\n",
       "  </thead>\n",
       "  <tbody>\n",
       "    <tr>\n",
       "      <th>0</th>\n",
       "      <td>0</td>\n",
       "      <td>Abiu열매</td>\n",
       "      <td>Abiu열매</td>\n",
       "      <td>NaN</td>\n",
       "    </tr>\n",
       "    <tr>\n",
       "      <th>1</th>\n",
       "      <td>1</td>\n",
       "      <td>Agathi꽃</td>\n",
       "      <td>Agathi꽃</td>\n",
       "      <td>NaN</td>\n",
       "    </tr>\n",
       "    <tr>\n",
       "      <th>2</th>\n",
       "      <td>2</td>\n",
       "      <td>Agathi잎</td>\n",
       "      <td>Agathi잎</td>\n",
       "      <td>NaN</td>\n",
       "    </tr>\n",
       "    <tr>\n",
       "      <th>3</th>\n",
       "      <td>3</td>\n",
       "      <td>Alder Buckthorn</td>\n",
       "      <td>Alder Buckthorn</td>\n",
       "      <td>NaN</td>\n",
       "    </tr>\n",
       "    <tr>\n",
       "      <th>4</th>\n",
       "      <td>4</td>\n",
       "      <td>Algarrobo Blanco</td>\n",
       "      <td>Algarrobo Blanco</td>\n",
       "      <td>NaN</td>\n",
       "    </tr>\n",
       "  </tbody>\n",
       "</table>\n",
       "</div>"
      ],
      "text/plain": [
       "   Unnamed: 0                원재료            대표원재료명 원재료이명\n",
       "0           0            Abiu열매             Abiu열매   NaN\n",
       "1           1           Agathi꽃            Agathi꽃   NaN\n",
       "2           2           Agathi잎            Agathi잎   NaN\n",
       "3           3   Alder Buckthorn    Alder Buckthorn   NaN\n",
       "4           4  Algarrobo Blanco   Algarrobo Blanco   NaN"
      ]
     },
     "execution_count": 74,
     "metadata": {},
     "output_type": "execute_result"
    }
   ],
   "source": [
    "materials.head()"
   ]
  },
  {
   "cell_type": "code",
   "execution_count": 165,
   "id": "6e8a22f3-4c7e-4d11-9944-18c6b745913c",
   "metadata": {},
   "outputs": [],
   "source": [
    "food_materials = pd.DataFrame({'원재료' : list(set(gredients_lst))})\n",
    "result = pd.merge(materials, food_materials\n",
    "                   , how=\"inner\", right_on=\"원재료\", left_on=\"대표원재료명\")"
   ]
  },
  {
   "cell_type": "code",
   "execution_count": 166,
   "id": "c09e2855-baa8-4f88-8a69-6a40f8c92569",
   "metadata": {},
   "outputs": [
    {
     "data": {
      "text/plain": [
       "['대두',\n",
       " '땅콩',\n",
       " '밀',\n",
       " '밀가루',\n",
       " '연',\n",
       " '코코아매스',\n",
       " '맥아엑기스',\n",
       " '돼지고기',\n",
       " '우유',\n",
       " '전지분유',\n",
       " '은',\n",
       " '유당',\n",
       " '알긴산프로필렌글리콜',\n",
       " '카제인나트륨',\n",
       " '설탕',\n",
       " '쇼트닝',\n",
       " '가공유지',\n",
       " '초콜릿',\n",
       " '가공버터',\n",
       " '전지분골드',\n",
       " '준초콜릿',\n",
       " '곡류가공품',\n",
       " '초콜릿가공품',\n",
       " '효소제',\n",
       " '혼합제제',\n",
       " '나트륨']"
      ]
     },
     "execution_count": 166,
     "metadata": {},
     "output_type": "execute_result"
    }
   ],
   "source": [
    "list(result[\"대표원재료명\"])"
   ]
  },
  {
   "cell_type": "code",
   "execution_count": 141,
   "id": "96820e66-e37c-4092-8949-4233662bed06",
   "metadata": {},
   "outputs": [],
   "source": [
    "lst = []\n",
    "special_char = ''\n",
    "for split in text.split():\n",
    "    x = [re.sub('[^A-Za-z0-9가-힣]', ' ', t) for t in split.split(',')]\n",
    "    # print(x)\n",
    "    for j in x:\n",
    "        lst += j.split()"
   ]
  },
  {
   "cell_type": "code",
   "execution_count": 142,
   "id": "ae36a6be-c94a-4812-91c7-413a99f42fa6",
   "metadata": {},
   "outputs": [
    {
     "name": "stdout",
     "output_type": "stream",
     "text": [
      "['00OPEN빼빼로', '판매수익금롯데제과', 'Sweet', 'Home지역아동센터건립기금으로', '사용됩니다', '유통기한', '밑면표기일까지', '연', '월', '일', '식품유형', '초콜릿가공품', '내포장재질', '폴리프로필렌품목보고번호', 'F2', '양산', '19780614009498', 'F4', '대전', '19960242067376영업장의', '명칭', '롯데제과', '서울시', '영등포구', '양평로21길', '25및', '소재지원재료명', '준초콜릿', '설탕', '가공유지', '싱가포르산', '혼합분유', '외국산', '싱가포르', '프랑스', '네덜란드', '등', '전지분유', '코코아매스', '코코아매스', '유당', '밀가루', '밀', '미국산', '캐나다산', '준초콜릿II', '설탕', '혼합분유', '외국산', '싱가포르', '프랑스', '네덜란드', '등', '전지분유', '코코아매스', '가공유지', '싱가포르산', '코코아매스', '유당', '시드', '곡류가공품', '설탕', '쇼트닝', '가공연유', '가공버터', '전분가공품', '맥아엑기스', '전지분골드', '1', '정제소금', '산료', '효소제', '효모도조절제3종', '기타과당', '혼합제제', '합성향료', '밀가루', '비타민C', '카제인나트륨', '알긴산프로필렌글리콜', '혼합제제II', '바닐라추출물', '합성향밀', '대두', '우유', '땅콩', '함유', '직사광선', '및', '습기를', '피해', '서늘한', '곳에', '진열', '유통', '중', '변질품은', '구입상점', '및', '본사에서', '항상', '교환', '소비자기본법에', '의한', '피해', '보상', '휴지줍는', '고운마음', '안버리는', '밝은마음', '부정', '불량식품', '신고는', '국번없이', '1399', '달걀', '쇠고기', '돼지고기', '혼입', '가능', '고객지원센터080', '024', '6060수신자요금부담http', 'www', 'lottecont', 'co', 'kr중', '초콜릿', '표면이', '녹아', '하얀', '반점이', '생길', '수', '있으나', '인체에무해하니', '드셔도', '괜찮습니다', '영양정보지방', '11g', '20', '나트륨', '140', 'mg7', '탄수화물', '24g7', '당류', '13g', '13', '트랜스지방', '0g포화지방', '6g', '40', '콜레스테롤', '5mg미만', '1', '1일', '영양성분', '기준치에', '대한', '비율', '은', '2', '000kcal', '기준이므로', '개인의', '필요', '열량에', '따라', '다를', '수', '있습니다', '1', '롯데제과단백질', '3g5', '눌러서분리배출', '해주세요총', '내용량', '39', 'g205', 'kcalSweet', 'Eco롯데제과와', '함께', '환경을', '지켜요', '편리한', '분리배출'] "
     ]
    }
   ],
   "source": [
    "print(lst, end=' ')"
   ]
  },
  {
   "cell_type": "code",
   "execution_count": 85,
   "id": "62161911-96d7-41d4-be44-1528e3f7b545",
   "metadata": {},
   "outputs": [
    {
     "data": {
      "text/plain": [
       "'00OPEN빼빼로 판매수익금롯데제과 Sweet Home지역아동센터건립기금으로 사용됩니다.유통기한 밑면표기일까지(연.월.일)식품유형 초콜릿가공품|내포장재질 폴리프로필렌품목보고번호 F2(양산) 19780614009498,F4(대전)19960242067376영업장의 명칭 롯데제과㈜ 서울시 영등포구 양평로21길 25및 소재지원재료명 준초콜릿 | (설탕, 가공유지(싱가포르산),혼합분유(외국산·(싱가포르·프랑스·네덜란드 등);전지분유,코코아매스),코코아매스,유당), 밀가루(밀:미국산,캐나다산),준초콜릿II(설탕,혼합분유(외국산(싱가포르 • 프랑스·네덜란드 등);전지분유,코코아매스),가공유지(싱가포르산),코코아매스,유당),시드(곡류가공품),설탕,쇼트닝,가공연유,가공버터,전분가공품,맥아엑기스,전지분골드 1,정제소금,산료), 효소제,효모도조절제3종, 기타과당,혼합제제(합성향료,밀가루,비타민C, 카제인나트륨,알긴산프로필렌글리콜),혼합제제II(바닐라추출물,합성향밀,대두,우유,땅콩 함유•직사광선 및 습기를 피해 서늘한 곳에 진열, 유통 중 변질품은 구입상점 및 본사에서 항상 교환 • 소비자기본법에 의한 피해 보상• 휴지줍는 고운마음, 안버리는 밝은마음• 부정, 불량식품 신고는 국번없이 1399•달걀,쇠고기,돼지고기 혼입 가능•●• 고객지원센터080-024-6060수신자요금부담http://www.lottecont.co.kr중 초콜릿 표면이 녹아 하얀 반점이 생길 수 있으나, 인체에무해하니 드셔도 괜찮습니다.영양정보지방 11g 20%나트륨 140 mg7% | 탄수화물 24g7% | 당류 13g 13%트랜스지방 0g포화지방 6g 40%콜레스테롤 5mg미만 1 %*1일 영양성분 기준치에 대한 비율(%)은 2,000kcal 기준이므로 개인의 필요 열량에 따라 다를 수 있습니다.1 롯데제과단백질 3g5%눌러서분리배출 해주세요총 내용량 39 g205 kcalSweet Eco롯데제과와 함께 환경을 지켜요△ 편리한 분리배출'"
      ]
     },
     "execution_count": 85,
     "metadata": {},
     "output_type": "execute_result"
    }
   ],
   "source": [
    "text"
   ]
  },
  {
   "cell_type": "code",
   "execution_count": 99,
   "id": "d8cc57a3-ca88-43c9-88b0-169f5dd15a46",
   "metadata": {},
   "outputs": [],
   "source": [
    "lst = [i for i in '준초콜릿, 설탕, 가공유지, 혼합분유, 전지분유, 코코아매스, 유당, 밀가루, 밀, 준초콜릿II, 시드, 곡류가공품, 쇼트닝, 가공연유, 가공버터, 전분가공품, 맥아엑기스, 전지분골드I, 정제소금, 산도조절제3종, 기타과당, 혼합제제I, 합성향료, 비타민C,  카제인나트륨, 알긴산프로필렌글리콜, 혼합제제II, 바닐라추출물, 효소제, 효모, 대두, 우유, 땅콩, 달걀, 쇠고기, 돼지고기'.split(', ')]"
   ]
  },
  {
   "cell_type": "code",
   "execution_count": 100,
   "id": "9615d042-cdc3-427e-b034-b2f6431ca173",
   "metadata": {},
   "outputs": [
    {
     "data": {
      "text/plain": [
       "36"
      ]
     },
     "execution_count": 100,
     "metadata": {},
     "output_type": "execute_result"
    }
   ],
   "source": [
    "len(set(lst))"
   ]
  }
 ],
 "metadata": {
  "kernelspec": {
   "display_name": "Python 3 (ipykernel)",
   "language": "python",
   "name": "python3"
  },
  "language_info": {
   "codemirror_mode": {
    "name": "ipython",
    "version": 3
   },
   "file_extension": ".py",
   "mimetype": "text/x-python",
   "name": "python",
   "nbconvert_exporter": "python",
   "pygments_lexer": "ipython3",
   "version": "3.9.7"
  }
 },
 "nbformat": 4,
 "nbformat_minor": 5
}
